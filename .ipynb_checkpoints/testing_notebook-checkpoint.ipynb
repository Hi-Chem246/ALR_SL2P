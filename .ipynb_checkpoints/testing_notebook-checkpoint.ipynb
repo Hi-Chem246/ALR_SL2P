{
 "cells": [
  {
   "cell_type": "code",
   "execution_count": null,
   "id": "a48e1578-56c1-4d98-822a-7eb50dc8fb14",
   "metadata": {},
   "outputs": [],
   "source": [
    "# This notebook is mainly used for testing and diagnosing any potential bugs"
   ]
  },
  {
   "cell_type": "code",
   "execution_count": null,
   "id": "a6bf1d60-2cf1-4c88-86d2-266b859f886d",
   "metadata": {},
   "outputs": [],
   "source": [
    "import scipy\n",
    "import scipy.io as sio\n",
    "import matplotlib.pyplot as plt\n",
    "import numpy\n",
    "import numpy.matlib\n",
    "import pandas \n",
    "import sklearn\n",
    "from sklearn import preprocessing\n",
    "from sklearn import linear_model\n",
    "import tensorflow\n",
    "from tensorflow import keras \n",
    "import os\n",
    "from scipy.stats import norm\n",
    "from scipy.spatial import distance\n",
    "from IPython.display import clear_output "
   ]
  }
 ],
 "metadata": {
  "kernelspec": {
   "display_name": "Python 3 (ipykernel)",
   "language": "python",
   "name": "python3"
  },
  "language_info": {
   "codemirror_mode": {
    "name": "ipython",
    "version": 3
   },
   "file_extension": ".py",
   "mimetype": "text/x-python",
   "name": "python",
   "nbconvert_exporter": "python",
   "pygments_lexer": "ipython3",
   "version": "3.7.11"
  }
 },
 "nbformat": 4,
 "nbformat_minor": 5
}
