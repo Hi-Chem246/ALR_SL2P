{
 "cells": [
  {
   "cell_type": "code",
   "execution_count": null,
   "id": "5c2337f6-4bc2-42cb-aa33-2bdb36d24ecc",
   "metadata": {},
   "outputs": [],
   "source": [
    "# In this notebook, the neural network is used to make predictions on image samples "
   ]
  },
  {
   "cell_type": "code",
   "execution_count": 1,
   "id": "64ae9f31-d28f-45cc-997f-7033b16660e5",
   "metadata": {},
   "outputs": [],
   "source": [
    "# Import the necessary packages and libraries #\n",
    "import ee\n",
    "import folium ; from folium import plugins\n",
    "import time\n",
    "import scipy ; from scipy import stats\n",
    "import sklearn ; from sklearn import linear_model ; from sklearn import preprocessing\n",
    "import pickle\n",
    "import scipy\n",
    "import scipy.io as sio\n",
    "import matplotlib.pyplot as plt\n",
    "import numpy\n",
    "import numpy.matlib\n",
    "import pandas \n",
    "import tensorflow\n",
    "from tensorflow import keras \n",
    "import os\n",
    "from sklearn.neighbors import DistanceMetric\n",
    "import random\n",
    "\n",
    "# import custom modules:\n",
    "import feature_collections as fc\n",
    "import image_bands as ib\n",
    "import wrapper_nets as wn\n",
    "import ee_functions as ee_func\n",
    "\n",
    "ee.Initialize()"
   ]
  },
  {
   "cell_type": "code",
   "execution_count": 2,
   "id": "ec33b600-0f3a-47d1-ab9a-9a9d6c0fa77c",
   "metadata": {},
   "outputs": [],
   "source": [
    "# Sets the precision of the data in the Pandas Dataframes \n",
    "\n",
    "pandas.set_option(\"precision\", 10)"
   ]
  },
  {
   "cell_type": "code",
   "execution_count": 3,
   "id": "50306f35-6cea-4a89-87bd-90ac06ba2266",
   "metadata": {},
   "outputs": [],
   "source": [
    "# Removes any Tensorflow warnings \n",
    "\n",
    "os.environ['TF_CPP_MIN_LOG_LEVEL'] = '2'"
   ]
  },
  {
   "cell_type": "code",
   "execution_count": 4,
   "id": "4b64a933-d58e-45c2-b799-7f5e0fd7806b",
   "metadata": {},
   "outputs": [],
   "source": [
    "# -----------------------------------\n",
    "# INPUT PARAMETERS / SETUP: TO MODIFY\n",
    "# -----------------------------------\n",
    "outputName = 'LAI'\n",
    "    # product name, one of: 'Surface_Reflectance','Albedo','fAPAR','fCOVER','LAI','CCC','CWC','DASF'\n",
    "\n",
    "siteSelect = 'Geraldton'\n",
    "    # site selection, one of: 'Ottawa', 'Geraldton', 'FoxCreek', 'Kouchibouguac'\n",
    "\n",
    "\n",
    "# output parameters, outputScale and outputOffset not applied to \"Surface_Reflectance\"\n",
    "outputParams = {\n",
    "    'fAPAR': {\n",
    "        'outputScale': 1000,\n",
    "        'outputOffset': 0,\n",
    "        'outputMax': 1\n",
    "    },\n",
    "    'fCOVER': {\n",
    "        'outputScale': 1000,\n",
    "        'outputOffset': 0,\n",
    "        'outputMax': 1\n",
    "    },\n",
    "    'LAI': {\n",
    "        'outputScale': 1000,\n",
    "        'outputOffset': 0,\n",
    "        'outputMax': 8\n",
    "    }\n",
    "}\n",
    "\n",
    "outputScale = outputParams[outputName]['outputScale']\n",
    "outputOffset = outputParams[outputName]['outputOffset']\n",
    "outputMax = outputParams[outputName]['outputMax']\n",
    "\n",
    "\n",
    "# specify parameters based on siteSelect: default image (Ottawa region), or one of three test sites:\n",
    "siteParams = {\n",
    "    # default region\n",
    "    'Ottawa': {\n",
    "        'inputImage': None,\n",
    "        'mapBounds': ee.Geometry.Polygon( \\\n",
    "                        [[[-75, 45], \\\n",
    "                          [-75, 46], \\\n",
    "                          [-74, 46], \\\n",
    "                          [-74, 45]]])\n",
    "    },\n",
    "    # Geraldton, ON\n",
    "    'Geraldton': {\n",
    "        'inputImage': ee.Image('COPERNICUS/S2_SR/20200811T164849_20200811T165525_T16UEA'),\n",
    "        'mapBounds': ee.Geometry.Polygon( \\\n",
    "                        [[[-95, 45], \\\n",
    "                          [-95, 55], \\\n",
    "                          [-80, 55], \\\n",
    "                          [-80, 45]]])\n",
    "    },\n",
    "    # Fox Creek, AB\n",
    "    'FoxCreek': {\n",
    "        'inputImage': ee.Image('COPERNICUS/S2_SR/20210825T185919_20210825T190431_T11UNA'),\n",
    "        'mapBounds': ee.Geometry.Polygon( \\\n",
    "                        [[[-117, 53], \\\n",
    "                          [-117, 53], \\\n",
    "                          [-115, 55], \\\n",
    "                          [-115, 54]]])\n",
    "    },\n",
    "    # Kouchibouguac, NB\n",
    "    'Kouchibouguac': {\n",
    "        'inputImage': ee.Image('COPERNICUS/S2_SR/20200905T151701_20200905T151829_T20TLS'),\n",
    "        'mapBounds': ee.Geometry.Polygon( \\\n",
    "                        [[[-65, 46], \\\n",
    "                          [-65, 47], \\\n",
    "                          [-64, 47], \\\n",
    "                          [-64, 46]]])\n",
    "    },\n",
    "    'Test': {\n",
    "        'inputImage': ee.Image('COPERNICUS/S2_SR/20200102T184751_20200102T184752_T11UPU'),\n",
    "        'mapBounds': ee.Geometry.Polygon( \\\n",
    "                        [[[-115,53], \\\n",
    "                          [-114,53], \\\n",
    "                          [-114,54], \\\n",
    "                          [-115,54]]])\n",
    "    }\n",
    "}\n",
    "\n",
    "\n",
    "#[-115.79669729915135,53.65596053367797]\n",
    "#[-114.76947561946385,53.65596053367797]\n",
    "#[-114.76947561946385,54.04480435119044]\n",
    "#[-115.79669729915135,54.04480435119044]\n",
    "\n",
    "\n",
    "mapBounds = siteParams[siteSelect]['mapBounds']\n",
    "inputImage = siteParams[siteSelect]['inputImage']\n",
    "\n",
    "\n",
    "# other filters (date filters apply to default region only)\n",
    "maxCloudcover = 10\n",
    "startDate = ee.Date('2020-08-01'),\n",
    "endDate = ee.Date('2020-08-5')\n",
    "\n",
    "# export parameters\n",
    "exportFolder = siteSelect+'_'+outputName\n",
    "exportScale = 20\n",
    "exportDatatype = \"int\""
   ]
  },
  {
   "cell_type": "code",
   "execution_count": 5,
   "id": "92e7ef49-1c06-471c-baa5-3979211d3c69",
   "metadata": {},
   "outputs": [],
   "source": [
    "COLLECTION_OPTIONS = {\n",
    "    # Sentinel 2 using 20 m bands:\n",
    "    'COPERNICUS/S2_SR': {\n",
    "      \"name\": 'COPERNICUS/S2_SR',\n",
    "      \"description\": 'Sentinel 2A',\n",
    "      \"Cloudcover\": 'CLOUDY_PIXEL_PERCENTAGE',\n",
    "      \"Watercover\": 'WATER_PERCENTAGE',\n",
    "      \"sza\": 'MEAN_SOLAR_ZENITH_ANGLE',\n",
    "      \"vza\": 'MEAN_INCIDENCE_ZENITH_ANGLE_B8A',\n",
    "      \"saa\": 'MEAN_SOLAR_AZIMUTH_ANGLE', \n",
    "      \"vaa\": 'MEAN_INCIDENCE_AZIMUTH_ANGLE_B8A',\n",
    "      \"VIS_OPTIONS\": 'VIS_OPTIONS',\n",
    "      \"Collection_SL2P\": ee.FeatureCollection(fc.s2_createFeatureCollection_estimates()),\n",
    "      \"Collection_SL2Perrors\": ee.FeatureCollection(fc.s2_createFeatureCollection_errors()),  \n",
    "      \"sl2pDomain\": ee.FeatureCollection(fc.s2_createFeatureCollection_domains()),\n",
    "      \"Network_Ind\": ee.FeatureCollection(fc.s2_createFeatureCollection_Network_Ind()),\n",
    "      \"partition\": ee.ImageCollection(fc.s2_createImageCollection_partition()),\n",
    "      \"legend\": ee.FeatureCollection(fc.s2_createFeatureCollection_legend()),\n",
    "      \"numVariables\": 7\n",
    "    },\n",
    "    'LANDSAT/LC08/C01/T1_SR': {\n",
    "      \"name\": 'LANDSAT/LC08/C01/T1_SR',\n",
    "      \"description\": 'LANDSAT 8',\n",
    "      \"Cloudcover\": 'CLOUD_COVER_LAND',\n",
    "      \"Watercover\": 'CLOUD_COVER',\n",
    "      \"sza\": 'SOLAR_ZENITH_ANGLE',\n",
    "      \"vza\": 'SOLAR_ZENITH_ANGLE',\n",
    "      \"saa\": 'SOLAR_AZIMUTH_ANGLE', \n",
    "      \"vaa\": 'SOLAR_AZIMUTH_ANGLE',\n",
    "      \"VIS_OPTIONS\": 'VIS_OPTIONS',\n",
    "      \"Collection_SL2P\": ee.FeatureCollection(fc.l8_createFeatureCollection_estimates()),\n",
    "      \"Collection_SL2Perrors\": ee.FeatureCollection(fc.l8_createFeatureCollection_errors()),\n",
    "      \"sl2pDomain\": ee.FeatureCollection(fc.l8_createFeatureCollection_domains()),\n",
    "      \"Network_Ind\": ee.FeatureCollection(fc.l8_createFeatureCollection_Network_Ind()),\n",
    "      \"partition\": ee.ImageCollection(fc.l8_createImageCollection_partition()),\n",
    "      \"legend\": ee.FeatureCollection(fc.l8_createFeatureCollection_legend()),\n",
    "      \"numVariables\": 7\n",
    "    }\n",
    "}\n",
    "\n",
    "VIS_OPTIONS = {\n",
    "    'fAPAR': {\n",
    "        \"COPERNICUS/S2_SR\": {\n",
    "            \"Name\": 'fAPAR',\n",
    "            \"errorName\": 'errorfAPAR',\n",
    "            \"maskName\": 'maskfAPAR',\n",
    "            \"description\": 'Fraction of absorbed photosynthetically active radiation',\n",
    "            \"variable\": 2,\n",
    "            \"inputBands\":      ['cosVZA', 'cosSZA', 'cosRAA', 'B3', 'B4', 'B5', 'B6', 'B7', 'B8A', 'B11', 'B12'],\n",
    "            \"inputScaling\":    [0.0001, 0.0001, 0.0001, 0.0001, 0.0001, 0.0001, 0.0001, 0.0001, 0.0001, 0.0001, 0.0001],\n",
    "            \"outmin\": (ee.Image(ee.Array([[0]]))),\n",
    "            \"outmax\": (ee.Image(ee.Array([[1]])))\n",
    "        }\n",
    "    },\n",
    "    'fCOVER': {\n",
    "        \"COPERNICUS/S2_SR\": {\n",
    "            \"Name\": 'fCOVER',\n",
    "            \"errorName\": 'errorfCOVER',\n",
    "            \"maskName\": 'maskfCOVER',\n",
    "            \"description\": 'Fraction of canopy cover',\n",
    "            \"variable\": 3,\n",
    "            \"inputBands\":      ['cosVZA', 'cosSZA', 'cosRAA', 'B3', 'B4', 'B5', 'B6', 'B7', 'B8A', 'B11', 'B12'],\n",
    "            \"inputScaling\":    [0.0001, 0.0001, 0.0001, 0.0001, 0.0001, 0.0001, 0.0001, 0.0001, 0.0001, 0.0001, 0.0001],\n",
    "            \"outmin\": (ee.Image(ee.Array([[0]]))),\n",
    "            \"outmax\": (ee.Image(ee.Array([[1]]))) \n",
    "        }\n",
    "    },\n",
    "    'LAI': {\n",
    "        \"COPERNICUS/S2_SR\": {\n",
    "            \"Name\": 'LAI',\n",
    "            \"errorName\": 'errorLAI',\n",
    "            \"maskName\": 'maskLAI',\n",
    "            \"description\": 'Leaf area index',\n",
    "            \"variable\": 1,\n",
    "            \"inputBands\":      ['cosVZA', 'cosSZA', 'cosRAA', 'B3', 'B4', 'B5', 'B6', 'B7', 'B8A', 'B11', 'B12'],\n",
    "            \"inputScaling\":    [0.0001, 0.0001, 0.0001, 0.0001, 0.0001, 0.0001, 0.0001, 0.0001, 0.0001, 0.0001, 0.0001],\n",
    "            \"outmin\": (ee.Image(ee.Array([[0]]))),\n",
    "            \"outmax\": (ee.Image(ee.Array([[1]])))\n",
    "        }\n",
    "        }\n",
    "}"
   ]
  },
  {
   "cell_type": "code",
   "execution_count": 6,
   "id": "c2ec2d44-ab06-40da-95e6-3476d08edf9d",
   "metadata": {
    "tags": []
   },
   "outputs": [],
   "source": [
    "# parse the networks\n",
    "colName = 'COPERNICUS/S2_SR'\n",
    "colOptions = COLLECTION_OPTIONS[colName]\n",
    "netOptions = VIS_OPTIONS[outputName][colName]\n",
    "numNets = ee.Number(ee.Feature((COLLECTION_OPTIONS[colName][\"Network_Ind\"]).first()).propertyNames().remove('Feature Index').remove('system:index').remove('lon').size())\n",
    "SL2P = ee.List.sequence(1,ee.Number(COLLECTION_OPTIONS[colName][\"numVariables\"]),1).map(lambda netNum: wn.makeNetVars(COLLECTION_OPTIONS[colName][\"Collection_SL2P\"],numNets,netNum));\n",
    "errorsSL2P = ee.List.sequence(1,ee.Number(COLLECTION_OPTIONS[colName][\"numVariables\"]),1).map(lambda netNum: wn.makeNetVars(COLLECTION_OPTIONS[colName][\"Collection_SL2Perrors\"],numNets,netNum));"
   ]
  },
  {
   "cell_type": "markdown",
   "id": "bea91e86-191d-4489-83bd-5c1c3d8199bd",
   "metadata": {},
   "source": [
    "### Original SL2P:"
   ]
  },
  {
   "cell_type": "code",
   "execution_count": 7,
   "id": "967232c9-ddce-4de1-bb97-c0114e9ba4b8",
   "metadata": {},
   "outputs": [
    {
     "data": {
      "text/html": [
       "<div style=\"width:100%;\"><div style=\"position:relative;width:100%;height:0;padding-bottom:60%;\"><span style=\"color:#565656\">Make this Notebook Trusted to load map: File -> Trust Notebook</span><iframe src=\"about:blank\" style=\"position:absolute;width:100%;height:100%;left:0;top:0;border:none !important;\" data-html=%3C%21DOCTYPE%20html%3E%0A%3Chead%3E%20%20%20%20%0A%20%20%20%20%3Cmeta%20http-equiv%3D%22content-type%22%20content%3D%22text/html%3B%20charset%3DUTF-8%22%20/%3E%0A%20%20%20%20%0A%20%20%20%20%20%20%20%20%3Cscript%3E%0A%20%20%20%20%20%20%20%20%20%20%20%20L_NO_TOUCH%20%3D%20false%3B%0A%20%20%20%20%20%20%20%20%20%20%20%20L_DISABLE_3D%20%3D%20false%3B%0A%20%20%20%20%20%20%20%20%3C/script%3E%0A%20%20%20%20%0A%20%20%20%20%3Cstyle%3Ehtml%2C%20body%20%7Bwidth%3A%20100%25%3Bheight%3A%20100%25%3Bmargin%3A%200%3Bpadding%3A%200%3B%7D%3C/style%3E%0A%20%20%20%20%3Cstyle%3E%23map%20%7Bposition%3Aabsolute%3Btop%3A0%3Bbottom%3A0%3Bright%3A0%3Bleft%3A0%3B%7D%3C/style%3E%0A%20%20%20%20%3Cscript%20src%3D%22https%3A//cdn.jsdelivr.net/npm/leaflet%401.6.0/dist/leaflet.js%22%3E%3C/script%3E%0A%20%20%20%20%3Cscript%20src%3D%22https%3A//code.jquery.com/jquery-1.12.4.min.js%22%3E%3C/script%3E%0A%20%20%20%20%3Cscript%20src%3D%22https%3A//maxcdn.bootstrapcdn.com/bootstrap/3.2.0/js/bootstrap.min.js%22%3E%3C/script%3E%0A%20%20%20%20%3Cscript%20src%3D%22https%3A//cdnjs.cloudflare.com/ajax/libs/Leaflet.awesome-markers/2.0.2/leaflet.awesome-markers.js%22%3E%3C/script%3E%0A%20%20%20%20%3Clink%20rel%3D%22stylesheet%22%20href%3D%22https%3A//cdn.jsdelivr.net/npm/leaflet%401.6.0/dist/leaflet.css%22/%3E%0A%20%20%20%20%3Clink%20rel%3D%22stylesheet%22%20href%3D%22https%3A//maxcdn.bootstrapcdn.com/bootstrap/3.2.0/css/bootstrap.min.css%22/%3E%0A%20%20%20%20%3Clink%20rel%3D%22stylesheet%22%20href%3D%22https%3A//maxcdn.bootstrapcdn.com/bootstrap/3.2.0/css/bootstrap-theme.min.css%22/%3E%0A%20%20%20%20%3Clink%20rel%3D%22stylesheet%22%20href%3D%22https%3A//maxcdn.bootstrapcdn.com/font-awesome/4.6.3/css/font-awesome.min.css%22/%3E%0A%20%20%20%20%3Clink%20rel%3D%22stylesheet%22%20href%3D%22https%3A//cdnjs.cloudflare.com/ajax/libs/Leaflet.awesome-markers/2.0.2/leaflet.awesome-markers.css%22/%3E%0A%20%20%20%20%3Clink%20rel%3D%22stylesheet%22%20href%3D%22https%3A//cdn.jsdelivr.net/gh/python-visualization/folium/folium/templates/leaflet.awesome.rotate.min.css%22/%3E%0A%20%20%20%20%0A%20%20%20%20%20%20%20%20%20%20%20%20%3Cmeta%20name%3D%22viewport%22%20content%3D%22width%3Ddevice-width%2C%0A%20%20%20%20%20%20%20%20%20%20%20%20%20%20%20%20initial-scale%3D1.0%2C%20maximum-scale%3D1.0%2C%20user-scalable%3Dno%22%20/%3E%0A%20%20%20%20%20%20%20%20%20%20%20%20%3Cstyle%3E%0A%20%20%20%20%20%20%20%20%20%20%20%20%20%20%20%20%23map_713b065155d04446928ad9ccfa479fd5%20%7B%0A%20%20%20%20%20%20%20%20%20%20%20%20%20%20%20%20%20%20%20%20position%3A%20relative%3B%0A%20%20%20%20%20%20%20%20%20%20%20%20%20%20%20%20%20%20%20%20width%3A%20100.0%25%3B%0A%20%20%20%20%20%20%20%20%20%20%20%20%20%20%20%20%20%20%20%20height%3A%20500.0px%3B%0A%20%20%20%20%20%20%20%20%20%20%20%20%20%20%20%20%20%20%20%20left%3A%200.0%25%3B%0A%20%20%20%20%20%20%20%20%20%20%20%20%20%20%20%20%20%20%20%20top%3A%200.0%25%3B%0A%20%20%20%20%20%20%20%20%20%20%20%20%20%20%20%20%7D%0A%20%20%20%20%20%20%20%20%20%20%20%20%3C/style%3E%0A%20%20%20%20%20%20%20%20%0A%20%20%20%20%3Cscript%20src%3D%22https%3A//cdnjs.cloudflare.com/ajax/libs/leaflet.fullscreen/1.4.2/Control.FullScreen.min.js%22%3E%3C/script%3E%0A%20%20%20%20%3Clink%20rel%3D%22stylesheet%22%20href%3D%22https%3A//cdnjs.cloudflare.com/ajax/libs/leaflet.fullscreen/1.4.2/Control.FullScreen.min.css%22/%3E%0A%3C/head%3E%0A%3Cbody%3E%20%20%20%20%0A%20%20%20%20%0A%20%20%20%20%20%20%20%20%20%20%20%20%3Cdiv%20class%3D%22folium-map%22%20id%3D%22map_713b065155d04446928ad9ccfa479fd5%22%20%3E%3C/div%3E%0A%20%20%20%20%20%20%20%20%0A%3C/body%3E%0A%3Cscript%3E%20%20%20%20%0A%20%20%20%20%0A%20%20%20%20%20%20%20%20%20%20%20%20var%20map_713b065155d04446928ad9ccfa479fd5%20%3D%20L.map%28%0A%20%20%20%20%20%20%20%20%20%20%20%20%20%20%20%20%22map_713b065155d04446928ad9ccfa479fd5%22%2C%0A%20%20%20%20%20%20%20%20%20%20%20%20%20%20%20%20%7B%0A%20%20%20%20%20%20%20%20%20%20%20%20%20%20%20%20%20%20%20%20center%3A%20%5B45.0%2C%20-95.0%5D%2C%0A%20%20%20%20%20%20%20%20%20%20%20%20%20%20%20%20%20%20%20%20crs%3A%20L.CRS.EPSG3857%2C%0A%20%20%20%20%20%20%20%20%20%20%20%20%20%20%20%20%20%20%20%20zoom%3A%208%2C%0A%20%20%20%20%20%20%20%20%20%20%20%20%20%20%20%20%20%20%20%20zoomControl%3A%20true%2C%0A%20%20%20%20%20%20%20%20%20%20%20%20%20%20%20%20%20%20%20%20preferCanvas%3A%20false%2C%0A%20%20%20%20%20%20%20%20%20%20%20%20%20%20%20%20%7D%0A%20%20%20%20%20%20%20%20%20%20%20%20%29%3B%0A%0A%20%20%20%20%20%20%20%20%20%20%20%20%0A%0A%20%20%20%20%20%20%20%20%0A%20%20%20%20%0A%20%20%20%20%20%20%20%20%20%20%20%20var%20tile_layer_1a06d49805a34ad0ba424b265a341fe2%20%3D%20L.tileLayer%28%0A%20%20%20%20%20%20%20%20%20%20%20%20%20%20%20%20%22https%3A//%7Bs%7D.tile.openstreetmap.org/%7Bz%7D/%7Bx%7D/%7By%7D.png%22%2C%0A%20%20%20%20%20%20%20%20%20%20%20%20%20%20%20%20%7B%22attribution%22%3A%20%22Data%20by%20%5Cu0026copy%3B%20%5Cu003ca%20href%3D%5C%22http%3A//openstreetmap.org%5C%22%5Cu003eOpenStreetMap%5Cu003c/a%5Cu003e%2C%20under%20%5Cu003ca%20href%3D%5C%22http%3A//www.openstreetmap.org/copyright%5C%22%5Cu003eODbL%5Cu003c/a%5Cu003e.%22%2C%20%22detectRetina%22%3A%20false%2C%20%22maxNativeZoom%22%3A%2018%2C%20%22maxZoom%22%3A%2018%2C%20%22minZoom%22%3A%200%2C%20%22noWrap%22%3A%20false%2C%20%22opacity%22%3A%201%2C%20%22subdomains%22%3A%20%22abc%22%2C%20%22tms%22%3A%20false%7D%0A%20%20%20%20%20%20%20%20%20%20%20%20%29.addTo%28map_713b065155d04446928ad9ccfa479fd5%29%3B%0A%20%20%20%20%20%20%20%20%0A%20%20%20%20%0A%20%20%20%20%20%20%20%20%20%20%20%20var%20tile_layer_b330238ebeab41d08c5ffd9604388205%20%3D%20L.tileLayer%28%0A%20%20%20%20%20%20%20%20%20%20%20%20%20%20%20%20%22https%3A//earthengine.googleapis.com/v1alpha/projects/earthengine-legacy/maps/4d4a004d589486b8b788bb4bad53b507-011f1ec6da5e524ffa4b4f9db9013986/tiles/%7Bz%7D/%7Bx%7D/%7By%7D%22%2C%0A%20%20%20%20%20%20%20%20%20%20%20%20%20%20%20%20%7B%22attribution%22%3A%20%22Google%20Earth%20Engine%22%2C%20%22detectRetina%22%3A%20false%2C%20%22maxNativeZoom%22%3A%2018%2C%20%22maxZoom%22%3A%2018%2C%20%22minZoom%22%3A%200%2C%20%22noWrap%22%3A%20false%2C%20%22opacity%22%3A%201%2C%20%22subdomains%22%3A%20%22abc%22%2C%20%22tms%22%3A%20false%7D%0A%20%20%20%20%20%20%20%20%20%20%20%20%29.addTo%28map_713b065155d04446928ad9ccfa479fd5%29%3B%0A%20%20%20%20%20%20%20%20%0A%20%20%20%20%0A%20%20%20%20%20%20%20%20%20%20%20%20var%20layer_control_f04ead74fd434b5ebdecaf382ba9faef%20%3D%20%7B%0A%20%20%20%20%20%20%20%20%20%20%20%20%20%20%20%20base_layers%20%3A%20%7B%0A%20%20%20%20%20%20%20%20%20%20%20%20%20%20%20%20%20%20%20%20%22openstreetmap%22%20%3A%20tile_layer_1a06d49805a34ad0ba424b265a341fe2%2C%0A%20%20%20%20%20%20%20%20%20%20%20%20%20%20%20%20%7D%2C%0A%20%20%20%20%20%20%20%20%20%20%20%20%20%20%20%20overlays%20%3A%20%20%7B%0A%20%20%20%20%20%20%20%20%20%20%20%20%20%20%20%20%20%20%20%20%22Image%22%20%3A%20tile_layer_b330238ebeab41d08c5ffd9604388205%2C%0A%20%20%20%20%20%20%20%20%20%20%20%20%20%20%20%20%7D%2C%0A%20%20%20%20%20%20%20%20%20%20%20%20%7D%3B%0A%20%20%20%20%20%20%20%20%20%20%20%20L.control.layers%28%0A%20%20%20%20%20%20%20%20%20%20%20%20%20%20%20%20layer_control_f04ead74fd434b5ebdecaf382ba9faef.base_layers%2C%0A%20%20%20%20%20%20%20%20%20%20%20%20%20%20%20%20layer_control_f04ead74fd434b5ebdecaf382ba9faef.overlays%2C%0A%20%20%20%20%20%20%20%20%20%20%20%20%20%20%20%20%7B%22autoZIndex%22%3A%20true%2C%20%22collapsed%22%3A%20true%2C%20%22position%22%3A%20%22topright%22%7D%0A%20%20%20%20%20%20%20%20%20%20%20%20%29.addTo%28map_713b065155d04446928ad9ccfa479fd5%29%3B%0A%20%20%20%20%20%20%20%20%0A%20%20%20%20%0A%20%20%20%20%20%20%20%20%20%20%20%20L.control.fullscreen%28%0A%20%20%20%20%20%20%20%20%20%20%20%20%20%20%20%20%7B%22forceSeparateButton%22%3A%20false%2C%20%22position%22%3A%20%22topleft%22%2C%20%22title%22%3A%20%22Full%20Screen%22%2C%20%22titleCancel%22%3A%20%22Exit%20Full%20Screen%22%7D%0A%20%20%20%20%20%20%20%20%20%20%20%20%29.addTo%28map_713b065155d04446928ad9ccfa479fd5%29%3B%0A%20%20%20%20%20%20%20%20%0A%3C/script%3E onload=\"this.contentDocument.open();this.contentDocument.write(    decodeURIComponent(this.getAttribute('data-html')));this.contentDocument.close();\" allowfullscreen webkitallowfullscreen mozallowfullscreen></iframe></div></div>"
      ],
      "text/plain": [
       "<folium.folium.Map at 0x7fc046458a10>"
      ]
     },
     "metadata": {},
     "output_type": "display_data"
    }
   ],
   "source": [
    "# filter collection and add ancillary bands\n",
    "if siteSelect == 'Ottawa':\n",
    "    input_collection = ee.ImageCollection(COLLECTION_OPTIONS[colName][\"name\"]) \\\n",
    "                         .filterBounds(mapBounds) \\\n",
    "                         .filterDate(startDate, endDate) \\\n",
    "                         .filterMetadata(colOptions[\"Cloudcover\"],'less_than',maxCloudcover) \\\n",
    "                         .limit(5000) \\\n",
    "                         .map(lambda image: ib.addDate(image)) \\\n",
    "                         .map(lambda image: image.clip(mapBounds)) \\\n",
    "                         .map(lambda image: ib.s2MaskClear(image)) \\\n",
    "                         .map(lambda image: ib.s2MaskLand(image)) \\\n",
    "                         .map(lambda image: ib.addS2Geometry(colOptions, image))\n",
    "\n",
    "else:\n",
    "    input_collection = ee.ImageCollection(inputImage) \\\n",
    "                         .map(lambda image: ib.addDate(image)) \\\n",
    "                         .map(lambda image: image.clip(mapBounds)) \\\n",
    "                         .map(lambda image: ib.s2MaskClear(image)) \\\n",
    "                         .map(lambda image: ib.s2MaskLand(image)) \\\n",
    "                         .map(lambda image: ib.addS2Geometry(colOptions, image))\n",
    "\n",
    "# get partition used to select network\n",
    "partition = (COLLECTION_OPTIONS[colName][\"partition\"]).filterBounds(mapBounds).mosaic().clip(mapBounds).rename('partition')\n",
    "    \n",
    "# pre process input imagery and flag invalid inputs\n",
    "scaled_input_collection = input_collection.map(lambda image: ib.scaleBands(netOptions[\"inputBands\"],netOptions[\"inputScaling\"],image)) \\\n",
    "                                       .map(lambda image: ib.invalidInput(COLLECTION_OPTIONS[colName][\"sl2pDomain\"],netOptions[\"inputBands\"],image))\n",
    "    \n",
    "# apply networks to produce mapped parameters\n",
    "estimateSL2P = scaled_input_collection.map(lambda image: wn.wrapperNNets(SL2P, partition, netOptions, COLLECTION_OPTIONS[colName], \"estimate\", image, outputName))\n",
    "uncertaintySL2P = scaled_input_collection.map(lambda image: wn.wrapperNNets(errorsSL2P, partition, netOptions, COLLECTION_OPTIONS[colName], \"error\", image, outputName))\n",
    "    \n",
    "# scale and offset mapped parameter bands\n",
    "estimateSL2P = estimateSL2P.map(lambda image: image.addBands(image.select(\"estimate\"+outputName).multiply(ee.Image.constant(outputScale)).add(ee.Image.constant(outputOffset)), overwrite=True))\n",
    "uncertaintySL2P = uncertaintySL2P.map(lambda image: image.addBands(image.select(\"error\"+outputName).multiply(ee.Image.constant(outputScale)).add(ee.Image.constant(outputOffset)), overwrite=True))\n",
    "    \n",
    "# produce final export collection\n",
    "export_collection = input_collection.combine(estimateSL2P).combine(uncertaintySL2P)\n",
    "    \n",
    "image_output_names = ([name+\"_\"+outputName for name in export_collection.toList(export_collection.size()).map(lambda image: ee.Image(image).id()).getInfo()])\n",
    "ee_func.displayImage(export_collection.mosaic().select('estimate'+outputName),0+outputOffset,10*outputScale+outputOffset, mapBounds)"
   ]
  },
  {
   "cell_type": "markdown",
   "id": "2b00ec66-24e2-4b0a-a961-3bf06b70d87c",
   "metadata": {},
   "source": [
    "### SL2P10_20m:"
   ]
  },
  {
   "cell_type": "code",
   "execution_count": 13,
   "id": "dc0235e7-cb4d-4ea1-9cc5-8f6c80ec77b2",
   "metadata": {},
   "outputs": [
    {
     "data": {
      "text/html": [
       "<div style=\"width:100%;\"><div style=\"position:relative;width:100%;height:0;padding-bottom:60%;\"><span style=\"color:#565656\">Make this Notebook Trusted to load map: File -> Trust Notebook</span><iframe src=\"about:blank\" style=\"position:absolute;width:100%;height:100%;left:0;top:0;border:none !important;\" data-html=%3C%21DOCTYPE%20html%3E%0A%3Chead%3E%20%20%20%20%0A%20%20%20%20%3Cmeta%20http-equiv%3D%22content-type%22%20content%3D%22text/html%3B%20charset%3DUTF-8%22%20/%3E%0A%20%20%20%20%0A%20%20%20%20%20%20%20%20%3Cscript%3E%0A%20%20%20%20%20%20%20%20%20%20%20%20L_NO_TOUCH%20%3D%20false%3B%0A%20%20%20%20%20%20%20%20%20%20%20%20L_DISABLE_3D%20%3D%20false%3B%0A%20%20%20%20%20%20%20%20%3C/script%3E%0A%20%20%20%20%0A%20%20%20%20%3Cstyle%3Ehtml%2C%20body%20%7Bwidth%3A%20100%25%3Bheight%3A%20100%25%3Bmargin%3A%200%3Bpadding%3A%200%3B%7D%3C/style%3E%0A%20%20%20%20%3Cstyle%3E%23map%20%7Bposition%3Aabsolute%3Btop%3A0%3Bbottom%3A0%3Bright%3A0%3Bleft%3A0%3B%7D%3C/style%3E%0A%20%20%20%20%3Cscript%20src%3D%22https%3A//cdn.jsdelivr.net/npm/leaflet%401.6.0/dist/leaflet.js%22%3E%3C/script%3E%0A%20%20%20%20%3Cscript%20src%3D%22https%3A//code.jquery.com/jquery-1.12.4.min.js%22%3E%3C/script%3E%0A%20%20%20%20%3Cscript%20src%3D%22https%3A//maxcdn.bootstrapcdn.com/bootstrap/3.2.0/js/bootstrap.min.js%22%3E%3C/script%3E%0A%20%20%20%20%3Cscript%20src%3D%22https%3A//cdnjs.cloudflare.com/ajax/libs/Leaflet.awesome-markers/2.0.2/leaflet.awesome-markers.js%22%3E%3C/script%3E%0A%20%20%20%20%3Clink%20rel%3D%22stylesheet%22%20href%3D%22https%3A//cdn.jsdelivr.net/npm/leaflet%401.6.0/dist/leaflet.css%22/%3E%0A%20%20%20%20%3Clink%20rel%3D%22stylesheet%22%20href%3D%22https%3A//maxcdn.bootstrapcdn.com/bootstrap/3.2.0/css/bootstrap.min.css%22/%3E%0A%20%20%20%20%3Clink%20rel%3D%22stylesheet%22%20href%3D%22https%3A//maxcdn.bootstrapcdn.com/bootstrap/3.2.0/css/bootstrap-theme.min.css%22/%3E%0A%20%20%20%20%3Clink%20rel%3D%22stylesheet%22%20href%3D%22https%3A//maxcdn.bootstrapcdn.com/font-awesome/4.6.3/css/font-awesome.min.css%22/%3E%0A%20%20%20%20%3Clink%20rel%3D%22stylesheet%22%20href%3D%22https%3A//cdnjs.cloudflare.com/ajax/libs/Leaflet.awesome-markers/2.0.2/leaflet.awesome-markers.css%22/%3E%0A%20%20%20%20%3Clink%20rel%3D%22stylesheet%22%20href%3D%22https%3A//cdn.jsdelivr.net/gh/python-visualization/folium/folium/templates/leaflet.awesome.rotate.min.css%22/%3E%0A%20%20%20%20%0A%20%20%20%20%20%20%20%20%20%20%20%20%3Cmeta%20name%3D%22viewport%22%20content%3D%22width%3Ddevice-width%2C%0A%20%20%20%20%20%20%20%20%20%20%20%20%20%20%20%20initial-scale%3D1.0%2C%20maximum-scale%3D1.0%2C%20user-scalable%3Dno%22%20/%3E%0A%20%20%20%20%20%20%20%20%20%20%20%20%3Cstyle%3E%0A%20%20%20%20%20%20%20%20%20%20%20%20%20%20%20%20%23map_4b78a5412f67437a8009efb18565bb09%20%7B%0A%20%20%20%20%20%20%20%20%20%20%20%20%20%20%20%20%20%20%20%20position%3A%20relative%3B%0A%20%20%20%20%20%20%20%20%20%20%20%20%20%20%20%20%20%20%20%20width%3A%20100.0%25%3B%0A%20%20%20%20%20%20%20%20%20%20%20%20%20%20%20%20%20%20%20%20height%3A%20500.0px%3B%0A%20%20%20%20%20%20%20%20%20%20%20%20%20%20%20%20%20%20%20%20left%3A%200.0%25%3B%0A%20%20%20%20%20%20%20%20%20%20%20%20%20%20%20%20%20%20%20%20top%3A%200.0%25%3B%0A%20%20%20%20%20%20%20%20%20%20%20%20%20%20%20%20%7D%0A%20%20%20%20%20%20%20%20%20%20%20%20%3C/style%3E%0A%20%20%20%20%20%20%20%20%0A%20%20%20%20%3Cscript%20src%3D%22https%3A//cdnjs.cloudflare.com/ajax/libs/leaflet.fullscreen/1.4.2/Control.FullScreen.min.js%22%3E%3C/script%3E%0A%20%20%20%20%3Clink%20rel%3D%22stylesheet%22%20href%3D%22https%3A//cdnjs.cloudflare.com/ajax/libs/leaflet.fullscreen/1.4.2/Control.FullScreen.min.css%22/%3E%0A%3C/head%3E%0A%3Cbody%3E%20%20%20%20%0A%20%20%20%20%0A%20%20%20%20%20%20%20%20%20%20%20%20%3Cdiv%20class%3D%22folium-map%22%20id%3D%22map_4b78a5412f67437a8009efb18565bb09%22%20%3E%3C/div%3E%0A%20%20%20%20%20%20%20%20%0A%3C/body%3E%0A%3Cscript%3E%20%20%20%20%0A%20%20%20%20%0A%20%20%20%20%20%20%20%20%20%20%20%20var%20map_4b78a5412f67437a8009efb18565bb09%20%3D%20L.map%28%0A%20%20%20%20%20%20%20%20%20%20%20%20%20%20%20%20%22map_4b78a5412f67437a8009efb18565bb09%22%2C%0A%20%20%20%20%20%20%20%20%20%20%20%20%20%20%20%20%7B%0A%20%20%20%20%20%20%20%20%20%20%20%20%20%20%20%20%20%20%20%20center%3A%20%5B45.0%2C%20-95.0%5D%2C%0A%20%20%20%20%20%20%20%20%20%20%20%20%20%20%20%20%20%20%20%20crs%3A%20L.CRS.EPSG3857%2C%0A%20%20%20%20%20%20%20%20%20%20%20%20%20%20%20%20%20%20%20%20zoom%3A%208%2C%0A%20%20%20%20%20%20%20%20%20%20%20%20%20%20%20%20%20%20%20%20zoomControl%3A%20true%2C%0A%20%20%20%20%20%20%20%20%20%20%20%20%20%20%20%20%20%20%20%20preferCanvas%3A%20false%2C%0A%20%20%20%20%20%20%20%20%20%20%20%20%20%20%20%20%7D%0A%20%20%20%20%20%20%20%20%20%20%20%20%29%3B%0A%0A%20%20%20%20%20%20%20%20%20%20%20%20%0A%0A%20%20%20%20%20%20%20%20%0A%20%20%20%20%0A%20%20%20%20%20%20%20%20%20%20%20%20var%20tile_layer_ff510068e2ca466c986469c6cae381d8%20%3D%20L.tileLayer%28%0A%20%20%20%20%20%20%20%20%20%20%20%20%20%20%20%20%22https%3A//%7Bs%7D.tile.openstreetmap.org/%7Bz%7D/%7Bx%7D/%7By%7D.png%22%2C%0A%20%20%20%20%20%20%20%20%20%20%20%20%20%20%20%20%7B%22attribution%22%3A%20%22Data%20by%20%5Cu0026copy%3B%20%5Cu003ca%20href%3D%5C%22http%3A//openstreetmap.org%5C%22%5Cu003eOpenStreetMap%5Cu003c/a%5Cu003e%2C%20under%20%5Cu003ca%20href%3D%5C%22http%3A//www.openstreetmap.org/copyright%5C%22%5Cu003eODbL%5Cu003c/a%5Cu003e.%22%2C%20%22detectRetina%22%3A%20false%2C%20%22maxNativeZoom%22%3A%2018%2C%20%22maxZoom%22%3A%2018%2C%20%22minZoom%22%3A%200%2C%20%22noWrap%22%3A%20false%2C%20%22opacity%22%3A%201%2C%20%22subdomains%22%3A%20%22abc%22%2C%20%22tms%22%3A%20false%7D%0A%20%20%20%20%20%20%20%20%20%20%20%20%29.addTo%28map_4b78a5412f67437a8009efb18565bb09%29%3B%0A%20%20%20%20%20%20%20%20%0A%20%20%20%20%0A%20%20%20%20%20%20%20%20%20%20%20%20var%20tile_layer_8bc744b9db30426ab0284d168f99b32a%20%3D%20L.tileLayer%28%0A%20%20%20%20%20%20%20%20%20%20%20%20%20%20%20%20%22https%3A//earthengine.googleapis.com/v1alpha/projects/earthengine-legacy/maps/2d3b937b316417249b3d57b6a82828dd-6a3e38d48dbdbfad017faf971a017818/tiles/%7Bz%7D/%7Bx%7D/%7By%7D%22%2C%0A%20%20%20%20%20%20%20%20%20%20%20%20%20%20%20%20%7B%22attribution%22%3A%20%22Google%20Earth%20Engine%22%2C%20%22detectRetina%22%3A%20false%2C%20%22maxNativeZoom%22%3A%2018%2C%20%22maxZoom%22%3A%2018%2C%20%22minZoom%22%3A%200%2C%20%22noWrap%22%3A%20false%2C%20%22opacity%22%3A%201%2C%20%22subdomains%22%3A%20%22abc%22%2C%20%22tms%22%3A%20false%7D%0A%20%20%20%20%20%20%20%20%20%20%20%20%29.addTo%28map_4b78a5412f67437a8009efb18565bb09%29%3B%0A%20%20%20%20%20%20%20%20%0A%20%20%20%20%0A%20%20%20%20%20%20%20%20%20%20%20%20var%20layer_control_efe1e3693c77421baab2179cd4130ba3%20%3D%20%7B%0A%20%20%20%20%20%20%20%20%20%20%20%20%20%20%20%20base_layers%20%3A%20%7B%0A%20%20%20%20%20%20%20%20%20%20%20%20%20%20%20%20%20%20%20%20%22openstreetmap%22%20%3A%20tile_layer_ff510068e2ca466c986469c6cae381d8%2C%0A%20%20%20%20%20%20%20%20%20%20%20%20%20%20%20%20%7D%2C%0A%20%20%20%20%20%20%20%20%20%20%20%20%20%20%20%20overlays%20%3A%20%20%7B%0A%20%20%20%20%20%20%20%20%20%20%20%20%20%20%20%20%20%20%20%20%22Image%22%20%3A%20tile_layer_8bc744b9db30426ab0284d168f99b32a%2C%0A%20%20%20%20%20%20%20%20%20%20%20%20%20%20%20%20%7D%2C%0A%20%20%20%20%20%20%20%20%20%20%20%20%7D%3B%0A%20%20%20%20%20%20%20%20%20%20%20%20L.control.layers%28%0A%20%20%20%20%20%20%20%20%20%20%20%20%20%20%20%20layer_control_efe1e3693c77421baab2179cd4130ba3.base_layers%2C%0A%20%20%20%20%20%20%20%20%20%20%20%20%20%20%20%20layer_control_efe1e3693c77421baab2179cd4130ba3.overlays%2C%0A%20%20%20%20%20%20%20%20%20%20%20%20%20%20%20%20%7B%22autoZIndex%22%3A%20true%2C%20%22collapsed%22%3A%20true%2C%20%22position%22%3A%20%22topright%22%7D%0A%20%20%20%20%20%20%20%20%20%20%20%20%29.addTo%28map_4b78a5412f67437a8009efb18565bb09%29%3B%0A%20%20%20%20%20%20%20%20%0A%20%20%20%20%0A%20%20%20%20%20%20%20%20%20%20%20%20L.control.fullscreen%28%0A%20%20%20%20%20%20%20%20%20%20%20%20%20%20%20%20%7B%22forceSeparateButton%22%3A%20false%2C%20%22position%22%3A%20%22topleft%22%2C%20%22title%22%3A%20%22Full%20Screen%22%2C%20%22titleCancel%22%3A%20%22Exit%20Full%20Screen%22%7D%0A%20%20%20%20%20%20%20%20%20%20%20%20%29.addTo%28map_4b78a5412f67437a8009efb18565bb09%29%3B%0A%20%20%20%20%20%20%20%20%0A%3C/script%3E onload=\"this.contentDocument.open();this.contentDocument.write(    decodeURIComponent(this.getAttribute('data-html')));this.contentDocument.close();\" allowfullscreen webkitallowfullscreen mozallowfullscreen></iframe></div></div>"
      ],
      "text/plain": [
       "<folium.folium.Map at 0x7fc04734f290>"
      ]
     },
     "metadata": {},
     "output_type": "display_data"
    }
   ],
   "source": [
    "# reduces image resolution before applying algorithm\n",
    "    \n",
    "# filter collection and add ancillary bands\n",
    "if siteSelect == 'Ottawa':\n",
    "    input_collection_20m = ee.ImageCollection(COLLECTION_OPTIONS[colName][\"name\"]) \\\n",
    "                         .filterBounds(mapBounds) \\\n",
    "                         .filterDate(startDate, endDate) \\\n",
    "                         .filterMetadata(colOptions[\"Cloudcover\"],'less_than',maxCloudcover) \\\n",
    "                         .limit(5000) \\\n",
    "                         .map(lambda image: ib.addDate(image)) \\\n",
    "                         .map(lambda image: image.clip(mapBounds)) \\\n",
    "                         .map(lambda image: ib.s2MaskClear(image)) \\\n",
    "                         .map(lambda image: ib.addS2Geometry(colOptions, image)) \\\n",
    "                         .map(lambda image: ib.reduceTo20m(image))\n",
    "\n",
    "else:\n",
    "    input_collection_20m = ee.ImageCollection(inputImage) \\\n",
    "                         .map(lambda image: ib.addDate(image)) \\\n",
    "                         .map(lambda image: image.clip(mapBounds)) \\\n",
    "                         .map(lambda image: ib.s2MaskClear(image)) \\\n",
    "                         .map(lambda image: ib.s2MaskLand(image)) \\\n",
    "                         .map(lambda image: ib.addS2Geometry(colOptions, image)) \\\n",
    "                         .map(lambda image: ib.reduceTo20m(image))\n",
    "\n",
    "\n",
    "if outputName == \"Surface_Reflectance\":\n",
    "    export_collection_20m = input_collection_20m\n",
    "else:\n",
    "    # get partition used to select network\n",
    "    partition = (COLLECTION_OPTIONS[colName][\"partition\"]).filterBounds(mapBounds).mosaic().clip(mapBounds).rename('partition')\n",
    "\n",
    "    # pre process input imagery and flag invalid inputs\n",
    "    input_collection_20m = input_collection_20m.map(lambda image: ib.s2MaskLand(image)) \\\n",
    "                                               .map(lambda image: ib.scaleBands(netOptions[\"inputBands\"],netOptions[\"inputScaling\"],image)) \\\n",
    "                                               .map(lambda image: ib.invalidInput(COLLECTION_OPTIONS[colName][\"sl2pDomain\"],netOptions[\"inputBands\"],image))\n",
    "    \n",
    "    # apply networks to produce mapped parameters\n",
    "    estimateSL2P_20m = input_collection_20m.map(lambda image: wn.wrapperNNets(SL2P, partition, netOptions, COLLECTION_OPTIONS[colName], \"estimate\", image, outputName))\n",
    "    uncertaintySL2P_20m = input_collection_20m.map(lambda image: wn.wrapperNNets(errorsSL2P, partition, netOptions, COLLECTION_OPTIONS[colName], \"error\", image, outputName))\n",
    "\n",
    "    # scale and offset mapped parameter bands\n",
    "    estimateSL2P_20m = estimateSL2P_20m.map(lambda image: image.addBands(image.select(\"estimate\"+outputName) \\\n",
    "                                                               .multiply(ee.Image.constant(outputScale)) \\\n",
    "                                                               .add(ee.Image.constant(outputOffset)), overwrite = True))\n",
    "    uncertaintySL2P_20m = uncertaintySL2P_20m.map(lambda image: image.addBands(image.select(\"error\"+outputName) \\\n",
    "                                                                     .multiply(ee.Image.constant(outputScale)) \\\n",
    "                                                                     .add(ee.Image.constant(outputOffset)),overwrite = True))\n",
    "    \n",
    "    # produce final export collection\n",
    "    export_collection_20m = input_collection_20m.combine(estimateSL2P_20m).combine(uncertaintySL2P_20m)\n",
    "\n",
    "image_output_names_20m = ([name+\"_\"+outputName+\"_20m\" for name in export_collection_20m.toList(export_collection_20m.size()).map(lambda image: ee.Image(image).id()).getInfo()])\n",
    "\n",
    "ee_func.displayImage(export_collection_20m.mosaic().select('estimate'+outputName),0+outputOffset,4*outputScale+outputOffset, mapBounds)"
   ]
  },
  {
   "cell_type": "code",
   "execution_count": 9,
   "id": "63028c06-cf2f-470b-a9cf-6815dbf55fef",
   "metadata": {},
   "outputs": [],
   "source": [
    "# combine all SL2P, SL2P10_10m, SL2P10_20m bands into a single image to sample corresponding pixel values\n",
    "\n",
    "export_20m = export_collection_20m.first()\n",
    "\n",
    "export_20m = export_20m.select('estimate'+outputName).rename('estimate'+outputName+'_20m')\n",
    "\n",
    "# get the first image in export_collection ; add all bands from corresponding image in export_collection_10m and export_collection_10m\n",
    "full_image = export_collection.first().addBands(export_20m)\n",
    "\n",
    "# sample the composed image with SL2P10_10m and SL2P10_20m bands\n",
    "samples = full_image.select('estimate'+outputName).sample(numPixels=4000, projection=export_collection.first().select('estimate'+outputName)\\\n",
    "                                                             .projection(), scale=20).getInfo()\n",
    "\n",
    "band_data = full_image.select(['cosVZA', 'cosSZA', 'cosRAA', 'B3', 'B4', 'B5', 'B6', 'B7', 'B8A', 'B11', 'B12']).sample(numPixels=4000, projection=export_collection.first().select('estimate'+outputName)\\\n",
    "                                                             .projection(), scale=20).getInfo()\n",
    "\n",
    "bands = ['B3','B4', 'B5', 'B6', 'B7', 'B8A', 'B11', 'B12','cosVZA', 'cosSZA', 'cosRAA']\n",
    "\n",
    "list_length = len(samples['features'])\n",
    "estimate_list = []\n",
    "\n",
    "# populate an array with the estimate for SL2P, SL2P10_10m, SL2P10_20m\n",
    "for i in range(list_length):\n",
    "    temp_list = []\n",
    "    temp_list.append(samples['features'][i]['properties']['estimate'+outputName])\n",
    "    estimate_list.append(temp_list)\n",
    "\n",
    "band_array = numpy.empty((list_length,len(bands))) \n",
    "\n",
    "for idx, band in enumerate(bands):\n",
    "    for k in range(list_length):\n",
    "        band_array[k,idx] = band_data['features'][k]['properties'][band]\n",
    "    \n",
    "sl2p = pandas.DataFrame(estimate_list).rename(columns={0:'estimate'+outputName}).divide(outputScale)"
   ]
  },
  {
   "cell_type": "code",
   "execution_count": 10,
   "id": "8825f94c-26cb-43b4-b6cf-d2ee56063847",
   "metadata": {},
   "outputs": [
    {
     "data": {
      "text/plain": [
       "<matplotlib.collections.PathCollection at 0x7fc04728bf10>"
      ]
     },
     "execution_count": 10,
     "metadata": {},
     "output_type": "execute_result"
    },
    {
     "data": {
      "image/png": "[encoded data removed]",
      "text/plain": [
       "<Figure size 432x288 with 1 Axes>"
      ]
     },
     "metadata": {
      "needs_background": "light"
     },
     "output_type": "display_data"
    }
   ],
   "source": [
    "plt.scatter(sl2p, sl2p)"
   ]
  },
  {
   "cell_type": "code",
   "execution_count": 11,
   "id": "ac42ff45-5034-4ed7-b507-b0c499a16b98",
   "metadata": {},
   "outputs": [],
   "source": [
    "# Creates a dataframe from the band data\n",
    "\n",
    "bands_df = pandas.DataFrame(data=band_array, columns = bands)"
   ]
  },
  {
   "cell_type": "code",
   "execution_count": 29,
   "id": "121ba23c-9a36-4f05-a81a-e9716c964b3a",
   "metadata": {},
   "outputs": [
    {
     "data": {
      "text/html": [
       "<div>\n",
       "<style scoped>\n",
       "    .dataframe tbody tr th:only-of-type {\n",
       "        vertical-align: middle;\n",
       "    }\n",
       "\n",
       "    .dataframe tbody tr th {\n",
       "        vertical-align: top;\n",
       "    }\n",
       "\n",
       "    .dataframe thead th {\n",
       "        text-align: right;\n",
       "    }\n",
       "</style>\n",
       "<table border=\"1\" class=\"dataframe\">\n",
       "  <thead>\n",
       "    <tr style=\"text-align: right;\">\n",
       "      <th></th>\n",
       "      <th>B3</th>\n",
       "      <th>B4</th>\n",
       "      <th>B5</th>\n",
       "      <th>B6</th>\n",
       "      <th>B7</th>\n",
       "      <th>B8A</th>\n",
       "      <th>B11</th>\n",
       "      <th>B12</th>\n",
       "      <th>cosVZA</th>\n",
       "      <th>cosSZA</th>\n",
       "      <th>cosRAA</th>\n",
       "    </tr>\n",
       "  </thead>\n",
       "  <tbody>\n",
       "  </tbody>\n",
       "</table>\n",
       "</div>"
      ],
      "text/plain": [
       "Empty DataFrame\n",
       "Columns: [B3, B4, B5, B6, B7, B8A, B11, B12, cosVZA, cosSZA, cosRAA]\n",
       "Index: []"
      ]
     },
     "execution_count": 29,
     "metadata": {},
     "output_type": "execute_result"
    }
   ],
   "source": [
    "# Divide the data by 10000 so that the data is scaled appropriately \n",
    "\n",
    "bands_df = bands_df.divide(10000)\n",
    "\n",
    "bands_df"
   ]
  },
  {
   "cell_type": "code",
   "execution_count": 30,
   "id": "94765c06-7e9a-4464-a799-255ef00a910e",
   "metadata": {},
   "outputs": [],
   "source": [
    "# Subtract a certain amount from each column in the angle data so that it is more similar to the angle data in the matlab file \n",
    "\n",
    "a1_subtract = numpy.random.uniform(0.0, 0.05, size = bands_df.shape[0])\n",
    "a2_subtract = numpy.random.uniform(0.0, 0.7, size = bands_df.shape[0])\n",
    "a3_subtract = numpy.random.uniform(0.0, 2, size = bands_df.shape[0])"
   ]
  },
  {
   "cell_type": "code",
   "execution_count": 31,
   "id": "9e3c4208-8ba1-4d40-9747-88c46316a965",
   "metadata": {},
   "outputs": [],
   "source": [
    "# Adjusts the angle data\n",
    "\n",
    "bands_df['cosVZA'] =  bands_df['cosVZA'].subtract(a1_subtract)\n",
    "bands_df['cosSZA'] =  bands_df['cosVZA'].subtract(a2_subtract)\n",
    "bands_df['cosRAA'] =  bands_df['cosVZA'].subtract(a3_subtract)"
   ]
  },
  {
   "cell_type": "code",
   "execution_count": null,
   "id": "460ad6c8-4418-419c-aca9-7f971c14ab4a",
   "metadata": {},
   "outputs": [],
   "source": [
    "bands_df"
   ]
  },
  {
   "cell_type": "code",
   "execution_count": null,
   "id": "a9a5d6fb-d118-464f-a823-ec43db34978f",
   "metadata": {},
   "outputs": [],
   "source": [
    "# Standardize the data \n",
    "\n",
    "bands_df_scaled = pandas.DataFrame(sklearn.preprocessing.StandardScaler().fit_transform(bands_df), columns=bands)\n",
    "\n",
    "bands_df_scaled"
   ]
  },
  {
   "cell_type": "code",
   "execution_count": null,
   "id": "7714e6e9-9d80-47ee-a8b1-21538afad004",
   "metadata": {},
   "outputs": [],
   "source": [
    "# Load the Neural Networks\n",
    "\n",
    "LAI_model = keras.models.load_model('./models/LAI_models')\n",
    "LAI_model_control = keras.models.load_model('./models/LAI_models_control')"
   ]
  },
  {
   "cell_type": "code",
   "execution_count": null,
   "id": "c5e2a47c-5a0a-44fc-b452-e01e6f56b973",
   "metadata": {},
   "outputs": [],
   "source": [
    "# Apply the Neural networks on the standardized band/angle data\n",
    "\n",
    "LAI_image_predicted = LAI_model.predict(numpy.array(bands_df_scaled)).flatten()\n",
    "LAI_image_predicted_control = LAI_model_control.predict(numpy.array(bands_df_scaled)).flatten()"
   ]
  },
  {
   "cell_type": "code",
   "execution_count": null,
   "id": "dbd46528-7589-4eb9-8f28-37379341ee14",
   "metadata": {},
   "outputs": [],
   "source": [
    "LAI_image_predicted"
   ]
  },
  {
   "cell_type": "code",
   "execution_count": null,
   "id": "aea9a0b3-6237-4e0a-bc69-e856cb57948e",
   "metadata": {},
   "outputs": [],
   "source": [
    "LAI_image_predicted_control"
   ]
  },
  {
   "cell_type": "code",
   "execution_count": null,
   "id": "1e80b08d-ca9e-408a-8758-72f4df556f1f",
   "metadata": {},
   "outputs": [],
   "source": [
    "# Resizes the sl2p data\n",
    "\n",
    "sl2p = numpy.resize(sl2p, len(LAI_image_predicted))"
   ]
  },
  {
   "cell_type": "code",
   "execution_count": null,
   "id": "eed72c7a-3f7f-4932-a07f-e30e7e513a5e",
   "metadata": {},
   "outputs": [],
   "source": [
    "# Gets the mean and std for the LAI from the calibration data in steps 6+7\n",
    "\n",
    "scaling_data = pandas.read_csv('scale_data.csv')\n",
    "\n",
    "# These values are used to descale the predicted LAI values\n",
    "\n",
    "LAI_mean = float(scaling_data.columns[0])\n",
    "\n",
    "LAI_std = float(scaling_data.columns[1])"
   ]
  },
  {
   "cell_type": "code",
   "execution_count": null,
   "id": "4b22aba5-6b5b-42f8-be42-5ddbdd8302d9",
   "metadata": {},
   "outputs": [],
   "source": [
    "r_min_control = min(LAI_image_predicted_control)\n",
    "r_max_control = max(LAI_image_predicted_control)\n",
    "r_min = min(LAI_image_predicted)\n",
    "r_max = max(LAI_image_predicted)\n",
    "t_min = 0\n",
    "t_max = 8\n",
    "\n",
    "scaled_LAI_control = ((LAI_image_predicted_control - r_min_control)/(r_max_control - r_min_control))*(t_max-t_min) + t_min\n",
    "scaled_LAI = ((LAI_image_predicted - r_min)/(r_max - r_min))*(t_max-t_min) + t_min"
   ]
  },
  {
   "cell_type": "code",
   "execution_count": null,
   "id": "ea833044-0217-46e2-8930-1a99e8d15bca",
   "metadata": {},
   "outputs": [],
   "source": [
    "# get the first image in export_collection ; add all bands from corresponding image in export_collection_10m and export_collection_10m\n",
    "full_image = export_collection.first().addBands(export_20m)\n",
    "\n",
    "# sample the composed image with SL2P10_10m and SL2P10_20m bands\n",
    "samples = full_image.select('estimate'+outputName).sample(numPixels=4000, projection=export_collection.first().select('estimate'+outputName)\\\n",
    "                                                             .projection(), scale=20).getInfo()\n",
    "\n",
    "band_data = full_image.select(['cosVZA', 'cosSZA', 'cosRAA', 'B3', 'B4', 'B5', 'B6', 'B7', 'B8A', 'B11', 'B12']).sample(numPixels=4000, projection=export_collection.first().select('estimate'+outputName)\\\n",
    "                                                             .projection(), scale=20).getInfo()"
   ]
  },
  {
   "cell_type": "code",
   "execution_count": null,
   "id": "c0fb2124-a5c5-438b-b7e4-e98519302bfc",
   "metadata": {},
   "outputs": [],
   "source": [
    "# Function that creates a density plot\n",
    "\n",
    "def plotting_function(var, input_var, resp_var, title, xlabel, ylabel, alg, ax=None):\n",
    "    ax = ax\n",
    "    xy = numpy.vstack([input_var, resp_var])\n",
    "    z = scipy.stats.gaussian_kde(xy)(xy)\n",
    "    idx = z.argsort()\n",
    "    x = input_var[idx]\n",
    "    y = resp_var[idx]\n",
    "    z = z[idx]\n",
    "    rmse = sklearn.metrics.mean_squared_error(x, y, squared=False)\n",
    "    r_sqr = sklearn.metrics.r2_score(x, y)\n",
    "    ax.scatter(x, y, c = z)\n",
    "    plt.colorbar(mappable=ax.scatter(x, y, c = z), ax=ax)\n",
    "    ax.set_title(title + '-' + alg + ' - RMSE: {}'.format(rmse) + ' - $R^2$: {}'.format(r_sqr))\n",
    "    ax.set_xlabel(xlabel)\n",
    "    ax.set_ylabel(ylabel)"
   ]
  },
  {
   "cell_type": "code",
   "execution_count": null,
   "id": "e391850f-2c91-43aa-a2ad-0d5cfdf0b3c5",
   "metadata": {},
   "outputs": [],
   "source": [
    "# This cell creates the plots that compare when we use weights in the NNet vs not using weights\n",
    "\n",
    "fig, (ax1, ax2) = plt.subplots(1,2,figsize=(25,15))\n",
    "\n",
    "plotting_function('LAI', sl2p, scaled_LAI, 'LAI','SL2P LAI','NNet LAI','SL2P vs NNet', ax1)\n",
    "\n",
    "plotting_function('LAI', sl2p, scaled_LAI_control, 'LAI','SL2P LAI','NNet LAI','SL2P vs NNet - Control', ax2)\n",
    "  \n",
    "fig.suptitle('SL2P vs NNet', fontsize=24)"
   ]
  }
 ],
 "metadata": {
  "kernelspec": {
   "display_name": "Python 3 (ipykernel)",
   "language": "python",
   "name": "python3"
  },
  "language_info": {
   "codemirror_mode": {
    "name": "ipython",
    "version": 3
   },
   "file_extension": ".py",
   "mimetype": "text/x-python",
   "name": "python",
   "nbconvert_exporter": "python",
   "pygments_lexer": "ipython3",
   "version": "3.7.11"
  }
 },
 "nbformat": 4,
 "nbformat_minor": 5
}
